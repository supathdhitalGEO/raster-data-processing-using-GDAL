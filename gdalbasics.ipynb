{
  "nbformat": 4,
  "nbformat_minor": 0,
  "metadata": {
    "colab": {
      "name": "gdalbasics.ipynb",
      "provenance": [],
      "authorship_tag": "ABX9TyO9n+6Y+LYqD+V9s6vNQ7rQ",
      "include_colab_link": true
    },
    "kernelspec": {
      "name": "python3",
      "display_name": "Python 3"
    },
    "language_info": {
      "name": "python"
    },
    "gpuClass": "standard"
  },
  "cells": [
    {
      "cell_type": "markdown",
      "metadata": {
        "id": "view-in-github",
        "colab_type": "text"
      },
      "source": [
        "<a href=\"https://colab.research.google.com/github/supathdhitalGEO/raster-data-processing-using-GDAL/blob/main/gdalbasics.ipynb\" target=\"_parent\"><img src=\"https://colab.research.google.com/assets/colab-badge.svg\" alt=\"Open In Colab\"/></a>"
      ]
    },
    {
      "cell_type": "code",
      "source": [
        "import os\n",
        "from osgeo import gdal,ogr\n",
        "import numpy as np\n",
        "import matplotlib.pyplot as plt"
      ],
      "metadata": {
        "id": "m2pEQp4mRSBH"
      },
      "execution_count": 1,
      "outputs": []
    },
    {
      "cell_type": "markdown",
      "source": [
        "**Importing the Raster File**"
      ],
      "metadata": {
        "id": "ZCNbe009_3to"
      }
    },
    {
      "cell_type": "code",
      "source": [
        "file = \"/content/sample.tif\"\n",
        "raster= gdal.Open(file)\n",
        "print(raster)"
      ],
      "metadata": {
        "colab": {
          "base_uri": "https://localhost:8080/"
        },
        "id": "eLsIYoYUzjMn",
        "outputId": "91f4c62a-f3e5-4a16-87b9-883bfb3f5ba2"
      },
      "execution_count": 2,
      "outputs": [
        {
          "output_type": "stream",
          "name": "stdout",
          "text": [
            "<osgeo.gdal.Dataset; proxy of <Swig Object of type 'GDALDatasetShadow *' at 0x7f3f6f417a20> >\n"
          ]
        }
      ]
    },
    {
      "cell_type": "markdown",
      "source": [
        "**Getting the Raster Band**"
      ],
      "metadata": {
        "id": "wt7MpabK_-QO"
      }
    },
    {
      "cell_type": "code",
      "source": [
        "show= raster.GetRasterBand(4)\n",
        "print(show)"
      ],
      "metadata": {
        "colab": {
          "base_uri": "https://localhost:8080/"
        },
        "id": "K7LLEpmLKRIs",
        "outputId": "cb6bd055-e7c4-40d4-9227-a43a51c2a032"
      },
      "execution_count": 3,
      "outputs": [
        {
          "output_type": "stream",
          "name": "stdout",
          "text": [
            "<osgeo.gdal.Band; proxy of <Swig Object of type 'GDALRasterBandShadow *' at 0x7f3f5389eab0> >\n"
          ]
        }
      ]
    },
    {
      "cell_type": "code",
      "source": [
        "data= show.ReadAsArray()\n",
        "print(data)"
      ],
      "metadata": {
        "colab": {
          "base_uri": "https://localhost:8080/"
        },
        "id": "zWYaM02BN80h",
        "outputId": "ce0c62a2-ce33-40fd-d64a-381c8e526aac"
      },
      "execution_count": 4,
      "outputs": [
        {
          "output_type": "stream",
          "name": "stdout",
          "text": [
            "[[     nan      nan      nan ... 0.048332      nan      nan]\n",
            " [     nan      nan      nan ... 0.050892      nan      nan]\n",
            " [0.103664 0.080192 0.066104 ... 0.049728      nan      nan]\n",
            " ...\n",
            " [     nan      nan 0.17476  ... 0.092548 0.078982 0.090706]\n",
            " [     nan      nan 0.141002 ...      nan      nan      nan]\n",
            " [     nan      nan 0.109226 ...      nan      nan      nan]]\n"
          ]
        }
      ]
    },
    {
      "cell_type": "markdown",
      "source": [
        "**To plot any graph and any data in GDAL matplotlib.pyplot library is available**"
      ],
      "metadata": {
        "id": "rwL5e5TZAGwa"
      }
    },
    {
      "cell_type": "code",
      "source": [
        "plt.imshow(data)"
      ],
      "metadata": {
        "colab": {
          "base_uri": "https://localhost:8080/",
          "height": 285
        },
        "id": "3lBgWXQPOfmG",
        "outputId": "be8f71bf-c94e-4065-f5b2-bf5095cbe510"
      },
      "execution_count": 5,
      "outputs": [
        {
          "output_type": "execute_result",
          "data": {
            "text/plain": [
              "<matplotlib.image.AxesImage at 0x7f3f53373990>"
            ]
          },
          "metadata": {},
          "execution_count": 5
        },
        {
          "output_type": "display_data",
          "data": {
            "text/plain": [
              "<Figure size 432x288 with 1 Axes>"
            ],
            "image/png": "[encoded data removed]"
          },
          "metadata": {
            "needs_background": "light"
          }
        }
      ]
    },
    {
      "cell_type": "markdown",
      "source": [
        "**to know the projection system of this raster data**"
      ],
      "metadata": {
        "id": "OFWN4sgOPRpx"
      }
    },
    {
      "cell_type": "code",
      "source": [
        "projection = raster.GetProjection()\n",
        "print(projection)"
      ],
      "metadata": {
        "colab": {
          "base_uri": "https://localhost:8080/"
        },
        "id": "FiQxH8xZPe4o",
        "outputId": "c02b935e-aa20-496e-9b2c-aa68ec78680c"
      },
      "execution_count": 6,
      "outputs": [
        {
          "output_type": "stream",
          "name": "stdout",
          "text": [
            "PROJCS[\"WGS 84 / UTM zone 44N\",GEOGCS[\"WGS 84\",DATUM[\"WGS_1984\",SPHEROID[\"WGS 84\",6378137,298.257223563,AUTHORITY[\"EPSG\",\"7030\"]],AUTHORITY[\"EPSG\",\"6326\"]],PRIMEM[\"Greenwich\",0,AUTHORITY[\"EPSG\",\"8901\"]],UNIT[\"degree\",0.0174532925199433,AUTHORITY[\"EPSG\",\"9122\"]],AUTHORITY[\"EPSG\",\"4326\"]],PROJECTION[\"Transverse_Mercator\"],PARAMETER[\"latitude_of_origin\",0],PARAMETER[\"central_meridian\",81],PARAMETER[\"scale_factor\",0.9996],PARAMETER[\"false_easting\",500000],PARAMETER[\"false_northing\",0],UNIT[\"metre\",1,AUTHORITY[\"EPSG\",\"9001\"]],AXIS[\"Easting\",EAST],AXIS[\"Northing\",NORTH],AUTHORITY[\"EPSG\",\"32644\"]]\n"
          ]
        }
      ]
    },
    {
      "cell_type": "markdown",
      "source": [
        "**To know the no of bands present in this .tif file:**"
      ],
      "metadata": {
        "id": "HiFmdJ5UPevw"
      }
    },
    {
      "cell_type": "code",
      "source": [
        "print('bands=', raster.RasterCount)\n",
        "print('Size=',raster.RasterXSize, 'x' , raster.RasterYSize)"
      ],
      "metadata": {
        "colab": {
          "base_uri": "https://localhost:8080/"
        },
        "id": "jDYfqZ-2PeWj",
        "outputId": "77bfdb32-e278-4a23-bf2e-529339f17389"
      },
      "execution_count": 7,
      "outputs": [
        {
          "output_type": "stream",
          "name": "stdout",
          "text": [
            "bands= 23\n",
            "Size= 75 x 69\n"
          ]
        }
      ]
    },
    {
      "cell_type": "markdown",
      "source": [
        "For data type"
      ],
      "metadata": {
        "id": "bX9Tbo3vVlNP"
      }
    },
    {
      "cell_type": "code",
      "source": [
        "print('Data Type=',gdal.GetDataTypeName(show.DataType))"
      ],
      "metadata": {
        "colab": {
          "base_uri": "https://localhost:8080/"
        },
        "id": "AZOh29r2VoOi",
        "outputId": "19fbbe9f-e59e-416c-979e-7a3db648cde1"
      },
      "execution_count": 8,
      "outputs": [
        {
          "output_type": "stream",
          "name": "stdout",
          "text": [
            "Data Type= Float32\n"
          ]
        }
      ]
    },
    {
      "cell_type": "markdown",
      "source": [
        "**To Reproject the raster data in differnt CRS using gdal.Wrap utility**"
      ],
      "metadata": {
        "id": "_Ladu4Cq7IwY"
      }
    },
    {
      "cell_type": "code",
      "source": [
        "reprojection=gdal.Warp(\"reprj.tif\", raster, dstSRS=\"EPSG:4326\")\n",
        "print(reprojection.GetProjection())"
      ],
      "metadata": {
        "id": "JOHE0OEsWxRm",
        "colab": {
          "base_uri": "https://localhost:8080/"
        },
        "outputId": "8a787e18-0217-46f8-f104-dd446baa3c3a"
      },
      "execution_count": 9,
      "outputs": [
        {
          "output_type": "stream",
          "name": "stdout",
          "text": [
            "GEOGCS[\"WGS 84\",DATUM[\"WGS_1984\",SPHEROID[\"WGS 84\",6378137,298.257223563,AUTHORITY[\"EPSG\",\"7030\"]],AUTHORITY[\"EPSG\",\"6326\"]],PRIMEM[\"Greenwich\",0,AUTHORITY[\"EPSG\",\"8901\"]],UNIT[\"degree\",0.0174532925199433,AUTHORITY[\"EPSG\",\"9122\"]],AUTHORITY[\"EPSG\",\"4326\"]]\n"
          ]
        }
      ]
    },
    {
      "cell_type": "markdown",
      "source": [
        "**To know the Raster Data for GeoAffineTransformation**\n",
        "\n",
        "GT(0) x-coordinate of the upper-left corner of the upper-left pixel.\n",
        "\n",
        "GT(1) w-e pixel resolution / pixel width.\n",
        "\n",
        "GT(2) row rotation (typically zero).\n",
        "\n",
        "GT(3) y-coordinate of the upper-left corner of the upper-left pixel.\n",
        "\n",
        "GT(4) column rotation (typically zero).\n",
        "\n",
        "GT(5) n-s pixel resolution / pixel height (negative value for a north-up image)."
      ],
      "metadata": {
        "id": "m-jqrKUP8hvc"
      }
    },
    {
      "cell_type": "code",
      "source": [
        "transform = raster.GetGeoTransform()\n",
        "print(transform)"
      ],
      "metadata": {
        "colab": {
          "base_uri": "https://localhost:8080/"
        },
        "id": "BUS6lmwZ7mRK",
        "outputId": "89f3b6c7-3455-4808-f9b1-d3b00e8b91dd"
      },
      "execution_count": 10,
      "outputs": [
        {
          "output_type": "stream",
          "name": "stdout",
          "text": [
            "(839510.0, 10.0, 0.0, 3069720.0, 0.0, -10.0)\n"
          ]
        }
      ]
    },
    {
      "cell_type": "markdown",
      "source": [
        "**Tranforming the Resolution of the image by X and Y  and ploting this with 200m pixel resolution**"
      ],
      "metadata": {
        "id": "LiV1KRbj-l_1"
      }
    },
    {
      "cell_type": "code",
      "source": [
        "regeotransform = gdal.Warp(\"geotransform\", raster, xRes=200, yRes=200)\n",
        "print(regeotransform.GetGeoTransform())\n",
        "plt.imshow(regeotransform.GetRasterBand(4).ReadAsArray())"
      ],
      "metadata": {
        "colab": {
          "base_uri": "https://localhost:8080/",
          "height": 303
        },
        "id": "B8iW54JH9Mu9",
        "outputId": "0b5a16be-f3b9-4d29-c5f2-c74b567735b7"
      },
      "execution_count": 11,
      "outputs": [
        {
          "output_type": "stream",
          "name": "stdout",
          "text": [
            "(839510.0, 200.0, 0.0, 3069720.0, 0.0, -200.0)\n"
          ]
        },
        {
          "output_type": "execute_result",
          "data": {
            "text/plain": [
              "<matplotlib.image.AxesImage at 0x7f3f52e62790>"
            ]
          },
          "metadata": {},
          "execution_count": 11
        },
        {
          "output_type": "display_data",
          "data": {
            "text/plain": [
              "<Figure size 432x288 with 1 Axes>"
            ],
            "image/png": "[encoded data removed]"
          },
          "metadata": {
            "needs_background": "light"
          }
        }
      ]
    }
  ]
}